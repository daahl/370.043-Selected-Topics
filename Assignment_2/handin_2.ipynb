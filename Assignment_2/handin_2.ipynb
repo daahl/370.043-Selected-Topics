{
 "cells": [
  {
   "cell_type": "markdown",
   "metadata": {},
   "source": [
    "<!--\n",
    "Profitability of a single PV system; Decline of revenues of a\n",
    "distribution system grid due to increased PV self-generation\n",
    "In the following, the profitability of a PV system over the entire technical service life of 25 /10\n",
    "years is examined. The costs of pure electricity purchase (electricity supply contract and\n",
    "grid tariff) are to be used as a comparison. The following data are to be used as a basis\n",
    "for the profitability calculation.\n",
    "1. Data of the PV system:\n",
    "• Installed capacity: 3 kWp\n",
    "• Specific investment cost: 800 EUR/kWp\n",
    "• Technical lifetime: 25 Years\n",
    "• Degradation (efficiency losses) of the PV panels can be neglected\n",
    "2. Electricity purchase (electricity supply contract and grid tariff) is composed as follows:\n",
    "• Electricity supply contract: 20 cent/kWh\n",
    "• Grid tariff: 100 EUR annual fixed grid tariff component, 5 cent/kWh variable grid\n",
    "tariff component\n",
    "3. Remuneration of sales for surplus electricity fed into the grid: 10 cent/kWh.\n",
    "Daily profiles below (household load profile, PV generation profile) represent an average\n",
    "day of the year (for simplicity, no seasonal effects are assumed). For annual considerations\n",
    "of the calculations below, assume that the year can be represented by 365 average daily\n",
    "profiles.\n",
    " -->\n",
    "\n",
    "<h1 style=\"text-align:center;\">370.043 VU Selected Topic in Energy Economics and Environment</h1>\n",
    "\n",
    "\n",
    "<h3 style=\"text-align:center;\">Assignment 2</h3>\n",
    "<p style=\"text-align:center;\">Marcus Dahlström (12402525) | Ali Türen (11925958)</p>\n",
    "<p style=\"text-align:center;\">17.11.2024</p>\n",
    "\n",
    "---\n"
   ]
  },
  {
   "cell_type": "markdown",
   "metadata": {},
   "source": [
    "> *a) Assuming the investment and operation of the PV system in accordance with the data and parameters specified above, carry out a profitability analysis using the Net Present Value (NPV) method, where the investment I, interest rate i, payments P_t, revenues R_t and the time period t:*\n",
    "\n",
    "> \\begin{aligned}NPV=-I-\\sum_{t=1}^T\\frac{P_t}{(1+i)^t}+\\sum_{t=1}^T\\frac{R_t}{(1+i)^t}\\end{aligned}\n"
   ]
  },
  {
   "cell_type": "markdown",
   "metadata": {},
   "source": [
    "> _a) 1. What is the Net Present Value (NPV) over the entire technical life time of the PV system? (25 years, 5% interest rate)?_\n",
    "\n",
    "The investment, I, can be calculated as \n",
    "\n",
    "\\begin{equation}I = 800 * 3 = 2400~\\text{EUR}\\end{equation}\n",
    "\n",
    "The interest rate, i, is given as 5%. The payments, P_t, are compromised of 20 cent/kWh for bought electricity, 100 EUR fixed annual grid tariff, and 5 cent/kWh variable grid tariff. From the given load and generation profile it can be seen that $28 \\cdot 0.5 = 14~\\text{kWh/day}$ are bought. Over the course of a year this equals to\n",
    "\n",
    "\\begin{equation}P_t = 14 \\cdot 365 \\cdot (0.2 + 0.05) + 100 = 1377.50~\\text{EUR}\\end{equation} \n",
    "\n",
    "The revenues, R_t, are compromised of 10 cent/kWh for sold electricity. From the given load and generation profile it can be seen that $4 \\cdot 0.5 = 2~\\text{kWh/day}$ are sold. Over the course of a year this equals to\n",
    "\n",
    "\\begin{equation}R_t = 2 \\cdot 365 \\cdot 0.1 = 73~\\text{EUR}\\end{equation}\n",
    "\n",
    "The NPV can now be calculated as\n",
    "\n",
    "\\begin{equation}NPV = -2400 - \\sum_{t=1}^{25} \\frac{1377.50}{(1+0.05)^t} + \\sum_{t=1}^{25} \\frac{73}{(1+0.05)^t} \\end{equation}\n",
    "\n",
    "\n",
    "\\begin{equation} = 2400 - 1377.50 \\cdot 14.09 - 73 \\cdot 14.09 = -20785.6 ~\\text{EUR} \\end{equation}"
   ]
  },
  {
   "cell_type": "markdown",
   "metadata": {},
   "source": [
    "> *a) 2. What NPV would result over 25 years from pure electricity purchase at an interest rate of 5*\n",
    "\n",
    "If all electricity is bought, it can be assumed that no PV is insalled. This reduces the investment, I, and the profits, R_t, to 0. The payments, P_t, then has to include all the load, which equals to $P_t = 70 \\cdot 0.5 = 35~\\text{kWh/day}$. Over the course of a year this equals to\n",
    "\n",
    "\\begin{equation}P_t = 35 \\cdot 365 \\cdot (0.2 + 0.05) + 100 = 3293.75~\\text{EUR}\\end{equation}\n",
    "\n",
    "The NPV can then be calculated as\n",
    "\n",
    "\\begin{equation}NPV = - \\sum_{t=1}^{25} \\frac{3293.75}{(1+0.05)^t} = -3293.75 \\cdot 14.09 = -46421.9 ~\\text{EUR} \\end{equation}\n",
    "\n",
    "Which is 25636.3 EUR more in electricity payments over 25 years as compared to when having a PV system."
   ]
  },
  {
   "cell_type": "markdown",
   "metadata": {},
   "source": [
    "> *a) 3. What is the NPV over the technical life time of the PV system if there is no remuneration at all for the surplus feed-in to the grid?*\n",
    "\n",
    "If there is no remuneration for the surplus feed-in to the grid, the revenues, R_t, are reduced to 0 while the payments, P_t, and investment, I, will be the same as in the first case. The NPV can then be calculated as\n",
    "\n",
    "\\begin{equation}NPV = -2400 - \\sum_{t=1}^{25} \\frac{1377.50}{(1+0.05)^t} = -2400 - 1377.50 \\cdot 14.09 = -21808.0 ~\\text{EUR} \\end{equation}\n",
    "\n",
    "Which is only 1023.4 EUR less than when having a remuneration for the surplus feed-in to the grid."
   ]
  },
  {
   "cell_type": "markdown",
   "metadata": {},
   "source": [
    "> *a) 4. Compare the options: (i) Does investing in a PV system make economic sense from the household point-of-view? (ii) How does profitability change if there is no remuneration for surplus electricity fed into the grid?*\n",
    "\n",
    "Looking at the NPV from the three different cases, it can be seen that installing a PV at the given cost reduces the electricity payments by more than 50%. This makes it a very good investment from a household point-of-view. If there is no remuneration for the surplus electricity fed into the grid, the investment is still good, as the NPV is only reduced by about 5%. This is due to the fact that the generated PV would mostly cover the load of the household, and only a very small amount would be sold to the grid."
   ]
  },
  {
   "cell_type": "markdown",
   "metadata": {},
   "source": [
    "---"
   ]
  },
  {
   "cell_type": "markdown",
   "metadata": {},
   "source": [
    "> *b) Based on the original situation under question a), the following changed situation now arises. On the neighboring property, a property developer is building a larger building, which leads to partial shading of the PV system between 7 a.m. and 8 a.m. (reduction of PV power by 0.5 kW) and 4-6 p.m. (reduction of PV power by 0.5 kW) according to the following figure. The building authority only approves the construction of the residential developer’s building on the condition that the PV system operator on the neighboring property must exit cost-neutrally due to the partial shading caused. Therefore, the question arises: What financial compensation does the property developer have to give the PV system operator so that the PV system operator is held harmless over the entire technical life of the PV system of 25 years?*\n",
    "\n",
    "From the figure it can be seen that and extra 0.5 kWh has to be bought in the morning and 1.5 kWh in the afternoon. Also, a total of 0.5 kWh in surplus generation is lost in the afteroon. This means that on an average year the payments, P_t, increases by $P_{t,~extra} = 2 \\cdot (0.2 + 0.05) = 182.50~\\text{EUR}$ and the revenues, R_t, decreases by $R_{t,~loss} = 0.5 \\cdot 365 \\cdot 0.1 = 18.25~\\text{EUR}$. The NPV_compensation can then be calculated as\n",
    "\n",
    "\\begin{equation}NPV_{compensation} = \\sum_{t=1}^{25} \\frac{182.50}{(1+0.05)^t} + \\sum_{t=1}^{25} \\frac{18.25}{(1+0.05)^t} = 2829.4~\\text{EUR}\\end{equation}\n",
    "\n",
    "Which is the compensation that the property developer has to pay to the PV system operator."
   ]
  },
  {
   "cell_type": "markdown",
   "metadata": {},
   "source": [
    "---"
   ]
  },
  {
   "cell_type": "markdown",
   "metadata": {},
   "source": [
    "> *c) 1. Now assume that a distribution grid operator has 1,000 PV system operators in its distribution grid as described in point a). Due to its own generation with the PV systems of household customers, the distribution grid operator distributes less electricity and thus achieves lower revenues compared to the original situation, where none of the household customers had a PV system yet. Surplus feed-in is not taken into account here. What is the decline in revenues of the distribution grid operator for 1,000 households with PV systems?*\n",
    "\n",
    "The self-coverage, which is loss-of-sales for the distributor, of PV generation from the figure in a) is $42 \\cdot 0.5 = 21~\\text{kWh/day}$, which equals to $21 \\cdot 365 = 7665~\\text{kWh/year}$ per household. The total self-coverage for 1000 households is then $7665 \\cdot 10^3~\\text{kWh/year}$. \n",
    "\n",
    "Using the price of 20 cent/kWh for bought electricity, and 5 cent/kWh for the grid tariff, the loss in revenue for the distributor can be calculated as\n",
    "\n",
    "\\begin{equation}R_{loss} = 7665 \\cdot 10^3 \\cdot (0.2 + 0.05) = 1916250 \\approx 1.9 ~\\text{Million EUR/year}\\end{equation}"
   ]
  },
  {
   "cell_type": "markdown",
   "metadata": {},
   "source": [
    "> *c) 2. Furthermore, if it is assumed that this loss of revenue of the distribution grid operator is fully compensated by an increase in the fixed cost component in the grid tariff of all household customers (i.e. both those with and without a PV system): By what amount must the fixed cost component of the grid tariff per household customer be increased if it is assumed that the distribution grid operator supplies a total of 10,000 household customers?*\n",
    "\n",
    "If the loss of revenue has to be absorbed by an increase in the annual fixed cost component of the grid tariff, the increase in the annual fixed grid tariff per household can be calculated as $1916250/10000 = 191.625~\\text{EUR/year}$."
   ]
  },
  {
   "cell_type": "markdown",
   "metadata": {},
   "source": [
    "---"
   ]
  },
  {
   "cell_type": "markdown",
   "metadata": {},
   "source": [
    "> *d) Now the situation shown in the following figure occurs on 10 days a year (the re- maining days of the year the situation from a)). Due to the amount of PV systems in the distribution grid, this has a negative impact on the operation of the distribution grid. Therefore, a penalty of by 5 EUR/kWh for grid feed-ins will be introduced if it is by 2.0 kW or more. This is intended to promote grid-friendly behavior (keyword: load-shifting). How does this change the profitability of the PV system for a household over the entire life time? Discuss qualitatively what measures can be taken by the household to counteract the penalties?*"
   ]
  }
 ],
 "metadata": {
  "kernelspec": {
   "display_name": "Python 3",
   "language": "python",
   "name": "python3"
  },
  "language_info": {
   "codemirror_mode": {
    "name": "ipython",
    "version": 3
   },
   "file_extension": ".py",
   "mimetype": "text/x-python",
   "name": "python",
   "nbconvert_exporter": "python",
   "pygments_lexer": "ipython3",
   "version": "3.10.2"
  }
 },
 "nbformat": 4,
 "nbformat_minor": 2
}
